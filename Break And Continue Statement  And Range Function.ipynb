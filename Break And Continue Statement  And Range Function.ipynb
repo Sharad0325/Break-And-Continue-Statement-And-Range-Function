{
 "cells": [
  {
   "cell_type": "code",
   "execution_count": 3,
   "id": "a034ec50-ebf6-444c-a917-1d30718283a5",
   "metadata": {},
   "outputs": [
    {
     "name": "stdout",
     "output_type": "stream",
     "text": [
      "1\n",
      "2\n",
      "3\n",
      "4\n"
     ]
    }
   ],
   "source": [
    "#Write a program to print numbers from 1 to 10, but stop if the number is 5.\n",
    "#using for loop.\n",
    "for i in range(1,11):\n",
    "    if i == 5:\n",
    "        break\n",
    "    print(i)\n",
    "        "
   ]
  },
  {
   "cell_type": "code",
   "execution_count": 5,
   "id": "8dc46ba4-d672-48e9-99ae-fa595c710fa8",
   "metadata": {},
   "outputs": [
    {
     "name": "stdout",
     "output_type": "stream",
     "text": [
      "1\n",
      "2\n",
      "3\n",
      "4\n"
     ]
    }
   ],
   "source": [
    "#using while loop.\n",
    "num = 1\n",
    "while num <=10:\n",
    "    print(num)\n",
    "    num += 1\n",
    "    if num == 5:\n",
    "        break"
   ]
  },
  {
   "cell_type": "code",
   "execution_count": 7,
   "id": "e2ab3974-7425-4c86-a705-bf474b107b43",
   "metadata": {},
   "outputs": [
    {
     "name": "stdout",
     "output_type": "stream",
     "text": [
      "1\n",
      "5.2\n",
      "99\n"
     ]
    }
   ],
   "source": [
    "#Write a program to iterate through a list and stop when encountering a specific element.\n",
    "l = [1,5.2,99,\"rahul\",\"pw\",True]\n",
    "for i in l:\n",
    "    if i == \"rahul\":\n",
    "        break\n",
    "    print(i)"
   ]
  },
  {
   "cell_type": "code",
   "execution_count": 9,
   "id": "82818546-4268-408d-b5cb-2c04f08e8914",
   "metadata": {},
   "outputs": [
    {
     "name": "stdout",
     "output_type": "stream",
     "text": [
      "1\n",
      "3\n",
      "5\n",
      "7\n",
      "9\n"
     ]
    }
   ],
   "source": [
    "# Write a program to skip printing even numbers from 1 to 10.\n",
    "#using for loop.\n",
    "for i in range(1,11):\n",
    "    if i % 2 == 0:\n",
    "        continue\n",
    "    print(i)"
   ]
  },
  {
   "cell_type": "code",
   "execution_count": 5,
   "id": "11774dd6-e1cf-4918-8a95-7fa1f0661fd5",
   "metadata": {},
   "outputs": [
    {
     "name": "stdout",
     "output_type": "stream",
     "text": [
      "1\n",
      "3\n",
      "5\n",
      "7\n",
      "9\n"
     ]
    }
   ],
   "source": [
    "#using while loop.\n",
    "a = 0\n",
    "while a<10:\n",
    "    a += 1\n",
    "    if a % 2 == 0:\n",
    "        continue\n",
    "    print(a)"
   ]
  },
  {
   "cell_type": "code",
   "execution_count": 8,
   "id": "88ea7355-0667-46c7-97b1-ef9a8fe7cdcc",
   "metadata": {},
   "outputs": [
    {
     "name": "stdout",
     "output_type": "stream",
     "text": [
      "0\n",
      "1\n",
      "2\n",
      "3\n",
      "4\n",
      "5\n",
      "6\n",
      "7\n",
      "8\n",
      "9\n"
     ]
    }
   ],
   "source": [
    "#Write a program to print numbers from 0 to 9 using range().\n",
    "for i in range(10):\n",
    "    print(i)"
   ]
  },
  {
   "cell_type": "code",
   "execution_count": 24,
   "id": "050e6b50-ce61-416a-ab15-c344222e7e18",
   "metadata": {},
   "outputs": [
    {
     "name": "stdout",
     "output_type": "stream",
     "text": [
      "1 * 1 = 1\n",
      "2 * 1 = 2\n",
      "3 * 1 = 3\n",
      "4 * 1 = 4\n",
      "5 * 1 = 5\n"
     ]
    }
   ],
   "source": [
    "#Write a program to print multiplication tables from 1 to 5, but stop after the first table is printed for each number.\n",
    "for i in range(1,6):\n",
    "    for j in range(1,11):\n",
    "        print(i,\"*\",j,\"=\",i*j)\n",
    "        if i*j in range(6):\n",
    "            break"
   ]
  },
  {
   "cell_type": "code",
   "execution_count": 26,
   "id": "41ae0c7e-0e58-4608-9d10-481d6238c9dc",
   "metadata": {},
   "outputs": [
    {
     "name": "stdout",
     "output_type": "stream",
     "text": [
      "1\n",
      "3\n",
      "5\n",
      "7\n",
      "9\n",
      "11\n",
      "13\n",
      "15\n",
      "17\n",
      "19\n"
     ]
    }
   ],
   "source": [
    "#Write a program to skip printing even numbers using a while loop.\n",
    "n = 0\n",
    "while n<20:\n",
    "    n += 1\n",
    "    if n % 2 == 0:\n",
    "        continue\n",
    "    print(n)"
   ]
  },
  {
   "cell_type": "code",
   "execution_count": null,
   "id": "414a0614-3643-47f4-aa25-77a5f074e1cd",
   "metadata": {},
   "outputs": [],
   "source": []
  },
  {
   "cell_type": "code",
   "execution_count": null,
   "id": "3bdd891e-15a6-4d0f-8691-568a3c947a54",
   "metadata": {},
   "outputs": [],
   "source": []
  },
  {
   "cell_type": "code",
   "execution_count": null,
   "id": "3121a1db-d0a9-434a-9583-b3a36f8d50ea",
   "metadata": {},
   "outputs": [],
   "source": []
  },
  {
   "cell_type": "code",
   "execution_count": null,
   "id": "1354f63b-906b-4a18-9530-750777e45f67",
   "metadata": {},
   "outputs": [],
   "source": []
  },
  {
   "cell_type": "code",
   "execution_count": null,
   "id": "439dac50-392d-4d2b-ab7d-2ee940ea1116",
   "metadata": {},
   "outputs": [],
   "source": []
  },
  {
   "cell_type": "code",
   "execution_count": null,
   "id": "c700f096-40df-45d4-9aee-3cb21517368c",
   "metadata": {},
   "outputs": [],
   "source": []
  },
  {
   "cell_type": "code",
   "execution_count": null,
   "id": "9f47d1b3-530e-471f-99ad-65fb410c7e26",
   "metadata": {},
   "outputs": [],
   "source": []
  },
  {
   "cell_type": "code",
   "execution_count": null,
   "id": "c1588c64-3ddc-4861-b066-76ebaf542c3b",
   "metadata": {},
   "outputs": [],
   "source": []
  },
  {
   "cell_type": "code",
   "execution_count": null,
   "id": "3044a0b5-f247-4357-a0c9-cbefe069ea64",
   "metadata": {},
   "outputs": [],
   "source": []
  },
  {
   "cell_type": "code",
   "execution_count": null,
   "id": "f37e6db9-adf1-483e-b10c-e0767d00d4ac",
   "metadata": {},
   "outputs": [],
   "source": []
  }
 ],
 "metadata": {
  "kernelspec": {
   "display_name": "Python 3 (ipykernel)",
   "language": "python",
   "name": "python3"
  },
  "language_info": {
   "codemirror_mode": {
    "name": "ipython",
    "version": 3
   },
   "file_extension": ".py",
   "mimetype": "text/x-python",
   "name": "python",
   "nbconvert_exporter": "python",
   "pygments_lexer": "ipython3",
   "version": "3.12.4"
  }
 },
 "nbformat": 4,
 "nbformat_minor": 5
}
